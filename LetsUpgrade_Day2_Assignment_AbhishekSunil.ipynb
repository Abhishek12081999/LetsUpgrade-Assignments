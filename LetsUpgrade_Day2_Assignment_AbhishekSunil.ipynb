{
 "cells": [
  {
   "cell_type": "markdown",
   "metadata": {},
   "source": [
    "# Question 1\n",
    "\n",
    "**Create an empty list. Accept 10 numbers from the user and append to it the list if it is an even number.**"
   ]
  },
  {
   "cell_type": "code",
   "execution_count": 7,
   "metadata": {},
   "outputs": [
    {
     "name": "stdout",
     "output_type": "stream",
     "text": [
      "Enter 10 Numbers: \n",
      "1\n",
      "2\n",
      "3\n",
      "4\n",
      "5\n",
      "6\n",
      "7\n",
      "8\n",
      "9\n",
      "10\n",
      "Even numbers in the list are [2, 4, 6, 8, 10]\n"
     ]
    }
   ],
   "source": [
    "l1 = []\n",
    "print('Enter 10 Numbers(line by line): ')\n",
    "for i1 in range(0,10):\n",
    "    num = int(input())\n",
    "    if num % 2 == 0:\n",
    "        l1.append(num)\n",
    "print('Even numbers in the list are',l1)"
   ]
  },
  {
   "cell_type": "markdown",
   "metadata": {},
   "source": [
    "# Question 2\n",
    "**Create a notebook on LIST COMPREHENSION. This exercise is to put you in a Self learning mode**"
   ]
  },
  {
   "cell_type": "markdown",
   "metadata": {},
   "source": [
    "***Below Given is the syntax of List Comprehension***"
   ]
  },
  {
   "cell_type": "raw",
   "metadata": {},
   "source": [
    "l2 = [i2 for i2 in l2_temp] \\n"
   ]
  },
  {
   "cell_type": "markdown",
   "metadata": {},
   "source": [
    "***This is the example of Conditional List Comprehension***"
   ]
  },
  {
   "cell_type": "raw",
   "metadata": {},
   "source": [
    "l2 = [i2 for i2 in l2_temp if i2 % 2]"
   ]
  },
  {
   "cell_type": "markdown",
   "metadata": {},
   "source": [
    "***This is the example of Nested Conditional List Comprehension***"
   ]
  },
  {
   "cell_type": "raw",
   "metadata": {},
   "source": [
    "l2 = [i2 for i2 in l2_temp if i2 % 2 == 0]"
   ]
  },
  {
   "cell_type": "markdown",
   "metadata": {},
   "source": [
    "***Below given is an example of list comprehension used to solve*** *Question 1* ***of this Assignment***"
   ]
  },
  {
   "cell_type": "code",
   "execution_count": 1,
   "metadata": {},
   "outputs": [
    {
     "name": "stdout",
     "output_type": "stream",
     "text": [
      "Enter number 1: 1\n",
      "Enter number 2: 2\n",
      "Enter number 3: 3\n",
      "Enter number 4: 4\n",
      "Enter number 5: 5\n",
      "Enter number 6: 6\n",
      "Enter number 7: 7\n",
      "Enter number 8: 8\n",
      "Enter number 9: 9\n",
      "Enter number 10: 10\n",
      "[2, 4, 6, 8, 10]\n"
     ]
    }
   ],
   "source": [
    "# List Comprehension allows us to iterate elements using for loop inside the list declaration syntax!!!\n",
    "\n",
    "# Let's solve the Question 1 using functions and List Comprehension \n",
    "\n",
    "def check_and_add(k):\n",
    "    #print('Enter number ' + i + ': ')\n",
    "    return int(input('Enter number ' + str(k+1) + ': '))\n",
    "l2_temp = [check_and_add(k) for k in range(0,10)]\n",
    "l2 = [i2 for i2 in l2_temp if i2 % 2 == 0] \n",
    "print(l2)"
   ]
  },
  {
   "cell_type": "markdown",
   "metadata": {},
   "source": [
    "# Question 3\n",
    "**You have seen in the videos how powerful dictionary data structure is.\n",
    "In this assignment, given a number n, you have to write a program that generates a dictionary d which\n",
    "contains (i, i*i), where i is from 1 to n (both included).\n",
    "Then you have to just print this dictionary d.**"
   ]
  },
  {
   "cell_type": "code",
   "execution_count": 26,
   "metadata": {},
   "outputs": [
    {
     "name": "stdout",
     "output_type": "stream",
     "text": [
      "Input: \n",
      "8\n",
      "Output:\n",
      "{1: 1, 2: 4, 3: 9, 4: 16, 5: 25, 6: 36, 7: 49, 8: 64}\n"
     ]
    }
   ],
   "source": [
    "n = int(input('Input: \\n'))\n",
    "d = {}\n",
    "for i3 in range(1,n+1):\n",
    "    d[i3]=i3*i3\n",
    "print('Output:\\n'+str(d))"
   ]
  },
  {
   "cell_type": "markdown",
   "metadata": {},
   "source": [
    "# Question 4\n",
    "**There is a robot which wants to go the charging point to charge itself.\n",
    "The robot moves in a 2-D plane from the original point (0,0). The robot can\n",
    "move toward UP, DOWN, LEFT and RIGHT with given steps.\n",
    "The trace of robot movement is shown as the following:\n",
    "UP 5\n",
    "DOWN 3\n",
    "LEFT 3\n",
    "RIGHT 2\n",
    "Then, the output of the program should be:\n",
    "2\n",
    "The numbers after the direction are steps.\n",
    "Write a program to compute the distance between the current position after\n",
    "a sequence of movement and original point. If the distance is a float, then\n",
    "just print the nearest integer (use round() function for that and then convert\n",
    "it into an integer).\n",
    "Input Format:\n",
    "The first line of the input contains a number n which implies the number of\n",
    "directions to be given.\n",
    "The next n lines contain the direction and the step separated by a space.\n",
    "Output Format:\n",
    "Print the distance from the original position to the current position.**"
   ]
  },
  {
   "cell_type": "code",
   "execution_count": 45,
   "metadata": {},
   "outputs": [
    {
     "name": "stdout",
     "output_type": "stream",
     "text": [
      "Input: \n",
      "4\n",
      "UP 5\n",
      "DOWN 3\n",
      "LEFT 3\n",
      "RIGHT 2\n",
      "Output: \n",
      "2\n"
     ]
    }
   ],
   "source": [
    "origin = {'x':0,'y':0}\n",
    "\n",
    "n = int(input('Input: \\n'))\n",
    "for i4 in range(0,n) :\n",
    "    movement = input().split(' ')\n",
    "    if movement[0].upper() == 'UP': # Positive Y Plane\n",
    "        origin['y'] = origin['y'] + int(movement[1])\n",
    "    elif movement[0].upper() == 'DOWN': # Negative Y Plane\n",
    "        origin['y'] = origin['y'] - int(movement[1])\n",
    "    elif movement[0].upper() == 'LEFT': # Negative X Plane\n",
    "        origin['x'] = origin['x'] - int(movement[1])\n",
    "    elif movement[0].upper() == 'RIGHT': # Positive X Plane\n",
    "        origin['x'] = origin['x'] + int(movement[1])\n",
    "    else:\n",
    "        pass\n",
    "print('Output: \\n' + str(round((origin['x']**2 + origin['y']**2)**0.5)))"
   ]
  }
 ],
 "metadata": {
  "kernelspec": {
   "display_name": "Python 3",
   "language": "python",
   "name": "python3"
  },
  "language_info": {
   "codemirror_mode": {
    "name": "ipython",
    "version": 3
   },
   "file_extension": ".py",
   "mimetype": "text/x-python",
   "name": "python",
   "nbconvert_exporter": "python",
   "pygments_lexer": "ipython3",
   "version": "3.8.3"
  }
 },
 "nbformat": 4,
 "nbformat_minor": 4
}
