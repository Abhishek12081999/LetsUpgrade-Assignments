{
 "cells": [
  {
   "cell_type": "markdown",
   "metadata": {},
   "source": [
    "# Question 1\n",
    "\n",
    "***Create a numpy array starting from 2 till 50 with a stepsize of 3.***"
   ]
  },
  {
   "cell_type": "code",
   "execution_count": 2,
   "metadata": {},
   "outputs": [],
   "source": [
    "import numpy as np"
   ]
  },
  {
   "cell_type": "code",
   "execution_count": 3,
   "metadata": {},
   "outputs": [
    {
     "name": "stdout",
     "output_type": "stream",
     "text": [
      "[ 2  5  8 11 14 17 20 23 26 29 32 35 38 41 44 47]\n"
     ]
    }
   ],
   "source": [
    "arr1 = np.arange(2,50,3)\n",
    "print(arr1)"
   ]
  },
  {
   "cell_type": "markdown",
   "metadata": {},
   "source": [
    "# Question 2\n",
    "\n",
    "***Accept two lists of 5 elements each from the user.\n",
    "Convert them to numpy arrays. Concatenate these arrays and print it. Also sort these arrays and print it.***"
   ]
  },
  {
   "cell_type": "code",
   "execution_count": 12,
   "metadata": {},
   "outputs": [
    {
     "name": "stdout",
     "output_type": "stream",
     "text": [
      "List 1\n",
      "\n",
      "Enter number 1 for array 1 : 23\n",
      "Enter number 2 for array 1 : 34\n",
      "Enter number 3 for array 1 : 32\n",
      "Enter number 4 for array 1 : 14\n",
      "Enter number 5 for array 1 : 45\n",
      "\n",
      "List 2\n",
      "\n",
      "Enter number 1 for array 2 : 7\n",
      "Enter number 2 for array 2 : 45\n",
      "Enter number 3 for array 2 : 23\n",
      "Enter number 4 for array 2 : 78\n",
      "Enter number 5 for array 2 : 96\n",
      "\n",
      "Numpy Array 1 -  [23 34 32 14 45]\n",
      "\n",
      "Numpy Array 2 -  [ 7 45 23 78 96]\n"
     ]
    }
   ],
   "source": [
    "def listing(x,i):\n",
    "    a = int(input('Enter number '+ str(i+1)+' for array '+str(x)+' : '))\n",
    "    return a\n",
    "print('List 1\\n')\n",
    "l1 = [listing(1,i) for i in range(0,5)]\n",
    "print('\\nList 2\\n')\n",
    "l2 = [listing(2,i) for i in range(0,5)]\n",
    "arr2 = np.array(l1)\n",
    "arr3 = np.array(l2)\n",
    "print('\\nNumpy Array 1 - ',arr2)\n",
    "print('\\nNumpy Array 2 - ',arr3)"
   ]
  },
  {
   "cell_type": "code",
   "execution_count": 15,
   "metadata": {},
   "outputs": [
    {
     "name": "stdout",
     "output_type": "stream",
     "text": [
      "\n",
      "Concatenated Array:  [23 34 32 14 45  7 45 23 78 96]\n",
      "Sorted Arrays:\n",
      "Numpy array 1:  [14 23 32 34 45]\n",
      "Numpy array 2:  [ 7 23 45 78 96]\n"
     ]
    }
   ],
   "source": [
    "#Concatenated Array\n",
    "print('\\nConcatenated Array: ', np.concatenate((arr2,arr3)))\n",
    "\n",
    "#Sorted arrays\n",
    "print('Sorted Arrays:') \n",
    "print('Numpy array 1: ',np.sort(arr2))\n",
    "print('Numpy array 2: ',np.sort(arr3))"
   ]
  },
  {
   "cell_type": "markdown",
   "metadata": {},
   "source": [
    "# Question 3\n",
    "\n",
    "***Write a code snippet to find the dimensions of a ndarray and its size.***"
   ]
  },
  {
   "cell_type": "code",
   "execution_count": 27,
   "metadata": {},
   "outputs": [
    {
     "name": "stdout",
     "output_type": "stream",
     "text": [
      "Dimension of the given array is  2\n",
      "Dimension of the given array is  9\n"
     ]
    }
   ],
   "source": [
    "arr4 = np.array([[0,1,2],[3,4,5],[6,7,8]])\n",
    "print('Dimension of the given array is ',arr4.ndim)\n",
    "print('Size of the given array is ',arr4.size)"
   ]
  },
  {
   "cell_type": "markdown",
   "metadata": {},
   "source": [
    "# Question 4\n",
    "\n",
    "***How to convert a 1D array into a 2D array? Demonstrate with the help of a code snippet\n",
    "Hint: np.newaxis, np.expand_dims***"
   ]
  },
  {
   "cell_type": "code",
   "execution_count": 30,
   "metadata": {},
   "outputs": [
    {
     "data": {
      "text/plain": [
       "array([[0, 1, 2, 3, 4],\n",
       "       [5, 6, 7, 8, 9]])"
      ]
     },
     "execution_count": 30,
     "metadata": {},
     "output_type": "execute_result"
    }
   ],
   "source": [
    "# The Process of converting a 1D Numpy Array to a 2D Numpy Array can be done using RESHAPE function\n",
    "\n",
    "# Let's suppose an 1D array 'arr5' of 10 Elements\n",
    "arr5 = np.arange(10)\n",
    "print('1D Array - ',arr5)\n",
    "\n",
    "# For converting this 1D array to 2D array, lets apply reshape function with arguments (2,5)\n",
    "arr6 = arr5.reshape((2,5))\n",
    "print('2D Array reshaped from 1D array - ',arr6)\n",
    "\n",
    "# Note the product of reshaping arguments should result to the initial array size it is converted from\n",
    "# Here - Product of (2,5) results to (10)\n",
    "\n",
    "# Also this can be achieved by 'newaxis' and 'expand_dims' "
   ]
  },
  {
   "cell_type": "markdown",
   "metadata": {},
   "source": [
    "# Question 5\n",
    "\n",
    "***Consider two square numpy arrays. Stack them vertically and horizontally.\n",
    "Hint: Use vstack(), hstack()***"
   ]
  },
  {
   "cell_type": "code",
   "execution_count": 58,
   "metadata": {},
   "outputs": [
    {
     "name": "stdout",
     "output_type": "stream",
     "text": [
      "The Square matrices are\n",
      " [[0. 0. 0.]\n",
      " [0. 0. 0.]\n",
      " [0. 0. 0.]] \n",
      "\n",
      " [[1. 1. 1.]\n",
      " [1. 1. 1.]\n",
      " [1. 1. 1.]]\n",
      "\n",
      "Vertically Stacked Array : \n",
      "\n",
      " [[0. 0. 0.]\n",
      " [0. 0. 0.]\n",
      " [0. 0. 0.]\n",
      " [1. 1. 1.]\n",
      " [1. 1. 1.]\n",
      " [1. 1. 1.]]\n",
      "\n",
      "Horizontally Stacked Array : \n",
      "\n",
      " [[0. 0. 0. 1. 1. 1.]\n",
      " [0. 0. 0. 1. 1. 1.]\n",
      " [0. 0. 0. 1. 1. 1.]]\n"
     ]
    }
   ],
   "source": [
    "# Consider arr7 and arr8 to be two square numpy arrays\n",
    "\n",
    "arr7 = np.zeros((3,3))\n",
    "arr8 = np.ones((3,3))\n",
    "\n",
    "print('The Square matrices are\\n',arr7,'\\n\\n',arr8)\n",
    "\n",
    "print('\\nVertically Stacked Array : \\n\\n',np.vstack((arr7,arr8)))\n",
    "print('\\nHorizontally Stacked Array : \\n\\n',np.hstack((arr7,arr8)))"
   ]
  },
  {
   "cell_type": "markdown",
   "metadata": {},
   "source": [
    "# Question 6\n",
    "\n",
    "***How to get unique items and counts of unique items?***"
   ]
  },
  {
   "cell_type": "code",
   "execution_count": 65,
   "metadata": {},
   "outputs": [
    {
     "name": "stdout",
     "output_type": "stream",
     "text": [
      "[[1 2 3]\n",
      " [3 4 5]\n",
      " [5 6 7]]\n",
      "\n",
      "Unique_items -  [1 2 3 4 5 6 7]\n",
      "Unique_count -  [1 1 2 1 2 1 1]\n"
     ]
    }
   ],
   "source": [
    "arr9 = np.array([[1,2,3],[3,4,5],[5,6,7]])\n",
    "print(arr9)\n",
    "unique_items, unique_count = np.unique(arr9,return_counts=True)\n",
    "print('\\nUnique_items - ',unique_items)\n",
    "print('Unique_count - ',unique_count)"
   ]
  }
 ],
 "metadata": {
  "kernelspec": {
   "display_name": "Python 3",
   "language": "python",
   "name": "python3"
  },
  "language_info": {
   "codemirror_mode": {
    "name": "ipython",
    "version": 3
   },
   "file_extension": ".py",
   "mimetype": "text/x-python",
   "name": "python",
   "nbconvert_exporter": "python",
   "pygments_lexer": "ipython3",
   "version": "3.8.3"
  }
 },
 "nbformat": 4,
 "nbformat_minor": 4
}
